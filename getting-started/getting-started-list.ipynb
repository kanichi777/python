{
 "cells": [
  {
   "cell_type": "markdown",
   "id": "1b73c209-bd8f-4d56-a6c1-82132ce47412",
   "metadata": {},
   "source": [
    "# pythonリストの使い方をマスター！初心者向けに図を使って解説"
   ]
  },
  {
   "cell_type": "markdown",
   "id": "6d9dcb9a-bf86-47d4-a0f9-5dde7216c73d",
   "metadata": {},
   "source": [
    "## 1.リストの作り方"
   ]
  },
  {
   "cell_type": "code",
   "execution_count": null,
   "id": "60778971-f12c-4158-9771-9ea03427a6cf",
   "metadata": {},
   "outputs": [],
   "source": [
    "# [ ] を用いる場合\n",
    "numbers = [1, 2, 3]\n",
    "weekdays = ['Monday', 'Tuesday', 'Wednesday']\n",
    "mix_words = [1, 2, 'Monday', 4, 'Tuesday']\n",
    "print('numbers=', numbers)\n",
    "print('weekdays=', weekdays)\n",
    "print('mix_words=', mix_words)"
   ]
  },
  {
   "cell_type": "code",
   "execution_count": null,
   "id": "c6061a7e-3472-4477-8bf6-dae807e059eb",
   "metadata": {},
   "outputs": [],
   "source": [
    "samples1 = []\n",
    "samples2 = list()\n",
    "print('samples1=', samples1)\n",
    "print('samples2=', samples2)"
   ]
  },
  {
   "cell_type": "code",
   "execution_count": null,
   "id": "4cded0ff-16dc-4038-b5f8-77d17676f0c4",
   "metadata": {},
   "outputs": [],
   "source": [
    "# samples3 = list(1, 2, 3) これはエラーとなる\n",
    "\n",
    "values = (1, 2, 3) # ( ) はタプル型\n",
    "samples4 = list(values) # list((1, 2, 3))と同じ\n",
    "print('samples4=', samples4)\n",
    "\n",
    "words = list('HELLO')\n",
    "print('words=', words)"
   ]
  },
  {
   "cell_type": "markdown",
   "id": "cf13e867-bdd5-40c6-ba77-c743f62fe91c",
   "metadata": {},
   "source": [
    "## 2.リストの値の読み取り"
   ]
  },
  {
   "cell_type": "code",
   "execution_count": null,
   "id": "846f25fd-bdfc-47df-b000-176efdb52c45",
   "metadata": {},
   "outputs": [],
   "source": [
    "words = list('HELLO') # ['H', 'E', 'L', 'L', 'O']\n",
    "print(words[1])\n",
    "print(words[-1])\n",
    "print(words[0])\n",
    "# print(words[5]) このように存在しないindexにアクセスするとエラーになる。\n",
    "# print(words[-6]) このように存在しないindexにアクセスするとエラーになる。"
   ]
  },
  {
   "cell_type": "code",
   "execution_count": null,
   "id": "4f5f8fdc-8f03-4a8f-9383-8544d9dc4425",
   "metadata": {},
   "outputs": [],
   "source": [
    "# wordsをABCDEに変えて実装\n",
    "words = list('ABCDE') # ['A', 'B', 'C', 'D', 'E']\n",
    "\n",
    "print(words[0:4]) # 先頭からindex=0,1,2,3にアクセスする\n",
    "print(words[::2]) # 先頭から１つ飛ばしでアクセスする　index=0,2,4にアクセスする\n",
    "print(words[::-2]) # 後ろから１つ飛ばしでアクセスする index=4,2,0の順番でアクセスする\n",
    "print(words[::-1]) # 後ろから順番にアクセスする index=4,3,2,1,0の順番でアクセスする。"
   ]
  },
  {
   "cell_type": "markdown",
   "id": "1e36a657-c4f8-4aa3-83f9-0d8a92c1845b",
   "metadata": {},
   "source": [
    "## 3.リストの値の書き換え"
   ]
  },
  {
   "cell_type": "code",
   "execution_count": null,
   "id": "33decf06-fe7a-4adf-ae15-baa692500a64",
   "metadata": {},
   "outputs": [],
   "source": [
    "words = list('ABCDE') # ['A', 'B', 'C', 'D', 'E']\n",
    "\n",
    "words[0] = 'Z'\n",
    "words[2] = 'Z'\n",
    "words[-1] = 'Z'\n",
    "print(words)"
   ]
  },
  {
   "cell_type": "markdown",
   "id": "4c4905ed-e81a-4257-ae7c-18a84a3a610f",
   "metadata": {},
   "source": [
    "## 4.リストの要素の追加"
   ]
  },
  {
   "cell_type": "code",
   "execution_count": null,
   "id": "5576deb0-4e34-431d-9a2d-c8e99e84b866",
   "metadata": {},
   "outputs": [],
   "source": [
    "# append--------------------\n",
    "words = list('ABCDE') # ['A', 'B', 'C', 'D', 'E']\n",
    "words.append('Z')\n",
    "print(words)"
   ]
  },
  {
   "cell_type": "code",
   "execution_count": null,
   "id": "eb318535-bfa4-4a63-9d8e-fc3f37526d9b",
   "metadata": {},
   "outputs": [],
   "source": [
    "# insert--------------------\n",
    "words = list('ABCDE') \n",
    "words.insert(0,'Z')\n",
    "print(words)\n",
    "other_words = list('HELLO') \n",
    "other_words.insert(-2, 'Z')\n",
    "print(other_words)"
   ]
  },
  {
   "cell_type": "code",
   "execution_count": null,
   "id": "e8291d7a-ec6e-4fa0-a4e8-6bf6a93a9df7",
   "metadata": {},
   "outputs": [],
   "source": [
    "# extend-------------------\n",
    "words = list('ABCDE') \n",
    "other_words = list('HELLO') \n",
    "words.extend(other_words) # += でも同じ意味 words += other_words\n",
    "print(words)"
   ]
  },
  {
   "cell_type": "markdown",
   "id": "968990c8-10bf-40a4-9710-50e747bde9c8",
   "metadata": {},
   "source": [
    "## 5.リストの要素を削除"
   ]
  },
  {
   "cell_type": "code",
   "execution_count": null,
   "id": "b88338f9-96db-411e-afb9-c8d16c1909b3",
   "metadata": {},
   "outputs": [],
   "source": [
    "# removeの場合\n",
    "words = ['A', 'B', 'C', 'D', 'E']\n",
    "words.remove('B')\n",
    "print(words)"
   ]
  },
  {
   "cell_type": "code",
   "execution_count": null,
   "id": "8127b088-65bd-4621-8e68-198d8ad01fb9",
   "metadata": {},
   "outputs": [],
   "source": [
    "# delの場合\n",
    "words = ['A', 'B', 'C', 'D', 'E']\n",
    "del words[3]\n",
    "print(words)"
   ]
  },
  {
   "cell_type": "code",
   "execution_count": null,
   "id": "22dd5009-9c6b-4675-b7cf-04b51cd93e32",
   "metadata": {},
   "outputs": [],
   "source": [
    "# popの場合\n",
    "words = ['A', 'B', 'C', 'D', 'E']\n",
    "pop_word = words.pop(3)\n",
    "print(pop_word)\n",
    "print(words)"
   ]
  },
  {
   "cell_type": "markdown",
   "id": "1ea1a526-43ab-4b0d-9e22-1e6bdcafde64",
   "metadata": {},
   "source": [
    "## 6.リストの要素の個数を調べる"
   ]
  },
  {
   "cell_type": "code",
   "execution_count": null,
   "id": "aa72a24d-5a55-44ac-9ae8-e7fe5019ba07",
   "metadata": {},
   "outputs": [],
   "source": [
    "words = ['A', 'B', 'C', 'D', 'E']\n",
    "print(len(words))"
   ]
  },
  {
   "cell_type": "code",
   "execution_count": null,
   "id": "7f2e947a-8ca7-4e24-afdb-051bae17f3a9",
   "metadata": {},
   "outputs": [],
   "source": [
    "words = ['A', 'B', 'B', 'B', 'C', 'B', 'D', 'E']\n",
    "print(words.count('B'))"
   ]
  },
  {
   "cell_type": "markdown",
   "id": "680b004a-0844-4e79-954f-5db15db07693",
   "metadata": {},
   "source": [
    "## 7.リストの要素を検索する。"
   ]
  },
  {
   "cell_type": "code",
   "execution_count": null,
   "id": "ad8ce82d-91a5-40b3-99d9-a1206d912d5b",
   "metadata": {},
   "outputs": [],
   "source": [
    "words = ['A', 'B', 'B', 'B', 'C', 'B', 'D', 'E']\n",
    "print(words.index('C'))\n",
    "print(words.index('B'))"
   ]
  },
  {
   "cell_type": "markdown",
   "id": "d91a974e-8cb1-4e42-b2d4-c3cc050b67c0",
   "metadata": {},
   "source": [
    "## 8.リストの有無を調べる"
   ]
  },
  {
   "cell_type": "code",
   "execution_count": null,
   "id": "51ef066b-6e8d-4350-be9e-0de92b8e6198",
   "metadata": {},
   "outputs": [],
   "source": [
    "words = ['A', 'B', 'B', 'B', 'C', 'B', 'D', 'E']\n",
    "print('D' in words)\n",
    "print('Z' in words)"
   ]
  },
  {
   "cell_type": "markdown",
   "id": "db2dbd14-0006-4b4a-98d9-d725bf601703",
   "metadata": {},
   "source": [
    "## 9.リストの並べ替え"
   ]
  },
  {
   "cell_type": "code",
   "execution_count": null,
   "id": "41ace1fa-f2f3-4c2e-aa10-b6480c6805e7",
   "metadata": {},
   "outputs": [],
   "source": [
    "words = ['A', 'B', 'B', 'B', 'C', 'B', 'D', 'E']\n",
    "words.sort()\n",
    "print(words)\n",
    "\n",
    "words.sort(reverse=True)\n",
    "print(words)"
   ]
  },
  {
   "cell_type": "markdown",
   "id": "f3d9345b-6b39-4001-a667-428973166717",
   "metadata": {},
   "source": [
    "## 10.リストのコピー"
   ]
  },
  {
   "cell_type": "code",
   "execution_count": null,
   "id": "921ebf4d-bbfb-407c-83e5-1251fc578939",
   "metadata": {},
   "outputs": [],
   "source": [
    "words = ['A', 'B', 'B', 'B', 'C', 'B', 'D', 'E']\n",
    "new_words1 = words.copy()\n",
    "new_words2 = words[:]\n",
    "new_words3 = list(words)\n",
    "\n",
    "print(new_words1)\n",
    "print(new_words2)\n",
    "print(new_words3)"
   ]
  },
  {
   "cell_type": "code",
   "execution_count": null,
   "id": "0b8ab46b-7b31-42ff-a587-38357f57f714",
   "metadata": {},
   "outputs": [],
   "source": []
  }
 ],
 "metadata": {
  "kernelspec": {
   "display_name": "Python 3 (ipykernel)",
   "language": "python",
   "name": "python3"
  },
  "language_info": {
   "codemirror_mode": {
    "name": "ipython",
    "version": 3
   },
   "file_extension": ".py",
   "mimetype": "text/x-python",
   "name": "python",
   "nbconvert_exporter": "python",
   "pygments_lexer": "ipython3",
   "version": "3.9.6"
  }
 },
 "nbformat": 4,
 "nbformat_minor": 5
}
