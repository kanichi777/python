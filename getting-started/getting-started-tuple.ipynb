{
 "cells": [
  {
   "cell_type": "markdown",
   "id": "50c691eb-d79b-4f8e-8d10-c955761bd17d",
   "metadata": {},
   "source": [
    "# python入門 tuple（タプル）はこれだけ知っておけばOK"
   ]
  },
  {
   "cell_type": "markdown",
   "id": "fbfc3eae-b18e-45f9-95f2-d8ad3794c4dc",
   "metadata": {},
   "source": [
    "## 1.タプルの作成方法"
   ]
  },
  {
   "cell_type": "code",
   "execution_count": null,
   "id": "097fff21-2f9a-4ef4-b658-c775f623a509",
   "metadata": {},
   "outputs": [],
   "source": [
    "# カンマ区切りで()で囲む\n",
    "a = (1, 2, 3)\n",
    "print(a)"
   ]
  },
  {
   "cell_type": "code",
   "execution_count": null,
   "id": "404dd428-f912-4377-83cd-e93910d4cc10",
   "metadata": {},
   "outputs": [],
   "source": [
    "# 様々な型をタプルに入れることが可能\n",
    "# 文字列\n",
    "a = ('A', 'B','C')\n",
    "print(a)\n",
    "\n",
    "# リストを入れることも可能\n",
    "b = [1, 2, 3]\n",
    "c = [4, 5, 6]\n",
    "d = (b, c)\n",
    "print(d)"
   ]
  },
  {
   "cell_type": "code",
   "execution_count": null,
   "id": "166afe29-1e73-4cef-b565-19868749f380",
   "metadata": {},
   "outputs": [],
   "source": [
    "# 空のタプルを作る場合\n",
    "a = ()\n",
    "# もしくは\n",
    "a = tuple()\n",
    "print(a)"
   ]
  },
  {
   "cell_type": "code",
   "execution_count": null,
   "id": "0cbb6346-0916-40b7-b6ea-3495066697f8",
   "metadata": {},
   "outputs": [],
   "source": [
    "# 要素が１つのタプルを作る場合\n",
    "a = (1,) # カンマが必ず必要\n",
    "print(a)"
   ]
  },
  {
   "cell_type": "code",
   "execution_count": null,
   "id": "c477f1f2-417c-4d3b-b619-842cf36c3aab",
   "metadata": {},
   "outputs": [],
   "source": [
    "# なぜカンマが必要かというと下記のようにカンマがないと型の見分けがつかないからでです。\n",
    "a = (1)\n",
    "print(type(a)) # 実行結果　<class 'int'>\n",
    "b = (1,)\n",
    "print(type(b)) # 実行結果　<class 'tuple'>\n",
    "\n",
    "c = ('AAA')\n",
    "print(type(c)) # 実行結果　<class 'str'>\n",
    "d = ('AAA',)\n",
    "print(type(d)) # 実行結果　<class 'tuple'>"
   ]
  },
  {
   "cell_type": "markdown",
   "id": "edcf85c9-0ac3-4b70-9bfe-ce5e70d734a7",
   "metadata": {},
   "source": [
    "## 2.タプルの要素へのアクセス方法"
   ]
  },
  {
   "cell_type": "code",
   "execution_count": null,
   "id": "9f599cf2-a152-488c-a5ee-d15c5d8936a6",
   "metadata": {},
   "outputs": [],
   "source": [
    "# []を使ってindexを指定して要素へアクセス可能\n",
    "a = (1, 2, 3)\n",
    "print(a[0])"
   ]
  },
  {
   "cell_type": "code",
   "execution_count": null,
   "id": "8787d919-437f-4c01-bd61-b9d8c0cb42f2",
   "metadata": {},
   "outputs": [],
   "source": [
    "# リストがタプルに入っている場合[][]を使ってアクセス可能\n",
    "b = [1, 2, 3]\n",
    "c = [4, 5, 6]\n",
    "a = (b, c)\n",
    "print(a)\n",
    "print(a[0])\n",
    "print(a[0][2])"
   ]
  },
  {
   "cell_type": "markdown",
   "id": "81f1b74f-e050-4b4a-8052-eba2cae5b6d9",
   "metadata": {},
   "source": [
    "## 3.タプルの要素数の取得"
   ]
  },
  {
   "cell_type": "code",
   "execution_count": null,
   "id": "1a9c52ad-75fd-4a1e-8175-444e3d3b8733",
   "metadata": {},
   "outputs": [],
   "source": [
    "# len()を使ってタプルの要素数を取得する\n",
    "a = ('A', 'B', 'C', 'D', 'E', 'D', 'C', 'C', 'E')\n",
    "print(len(a))"
   ]
  },
  {
   "cell_type": "code",
   "execution_count": null,
   "id": "238c1a7c-e9d6-4ef1-a99a-214513a001ee",
   "metadata": {},
   "outputs": [],
   "source": [
    "# 指定した要素の個数をcount() で数える\n",
    "a = ('A', 'B', 'C', 'D', 'E', 'D', 'C', 'C', 'E')\n",
    "print(a.count('E'))"
   ]
  },
  {
   "cell_type": "code",
   "execution_count": null,
   "id": "0d515c31-300d-489c-8686-1f290918e300",
   "metadata": {},
   "outputs": [],
   "source": [
    "# 指定した要素のindex番号をindex() で検索する\n",
    "a = ('A', 'B', 'C', 'D', 'E', 'D', 'C', 'C', 'E')\n",
    "print(a.index('C'))\n",
    "# 探し始めるindexを指定することも可能\n",
    "print(a.index('C', 7))"
   ]
  },
  {
   "cell_type": "markdown",
   "id": "3c2cbedf-06db-4ae0-b3ec-7d83bae95cb8",
   "metadata": {},
   "source": [
    "## 4.タプルへの要素の追加"
   ]
  },
  {
   "cell_type": "code",
   "execution_count": null,
   "id": "f33618d4-8b6f-47c3-af35-bebf333b8924",
   "metadata": {},
   "outputs": [],
   "source": [
    "# +を使って追加する\n",
    "a = ('A', 'B', 'C')\n",
    "a = a + ('Z',) # a += ('Z',)と同じ意味\n",
    "print(a)"
   ]
  },
  {
   "cell_type": "markdown",
   "id": "2b4c9740-51cc-49fe-828e-a790d2d1b45c",
   "metadata": {},
   "source": [
    "## 5.タプルの要素の存在確認"
   ]
  },
  {
   "cell_type": "code",
   "execution_count": null,
   "id": "fd9ae907-e466-457e-b255-65841a7ad08f",
   "metadata": {},
   "outputs": [],
   "source": [
    "# in を用いて確認することができる。\n",
    "a = ('A', 'B', 'C')\n",
    "print('A' in a) # 実行結果 True\n",
    "print('KKK' in a) # 実行結果 False"
   ]
  },
  {
   "cell_type": "markdown",
   "id": "9d2f603d-5164-4797-abf4-06d64f432e3c",
   "metadata": {},
   "source": [
    "## 6.タプルの比較"
   ]
  },
  {
   "cell_type": "code",
   "execution_count": null,
   "id": "06f1d66f-8311-40ef-bfff-ae70054d7aa6",
   "metadata": {},
   "outputs": [],
   "source": [
    "a = ('A', 'B', 'C', 'D', 'E')\n",
    "b = ('A', 'B', 'C', 'D', 'E')\n",
    "print(a == b)"
   ]
  },
  {
   "cell_type": "markdown",
   "id": "f0110bc9-9c8c-49e1-ac8f-62c291c128d4",
   "metadata": {},
   "source": [
    " ## 7.タプルのアンパッキング"
   ]
  },
  {
   "cell_type": "code",
   "execution_count": null,
   "id": "76b8d320-9164-41cb-9fee-f4caa7c2678d",
   "metadata": {},
   "outputs": [],
   "source": [
    "# １行で複数の変数に値を代入\n",
    "a, b, c = (100, 200, 300) # ()を省略することも可能\n",
    "print(a)\n",
    "print(b)\n",
    "print(c)"
   ]
  },
  {
   "cell_type": "code",
   "execution_count": null,
   "id": "1ab1fda3-7420-4be1-8de7-78c6469a3f0b",
   "metadata": {},
   "outputs": [],
   "source": [
    "# 値を入れ替えたい場合\n",
    "a, b, c = 100, 200, 300\n",
    "a, b, c = c, a, b\n",
    "print(a)\n",
    "print(b)\n",
    "print(c)"
   ]
  },
  {
   "cell_type": "code",
   "execution_count": null,
   "id": "491da605-8864-440a-8904-fb43024502ff",
   "metadata": {},
   "outputs": [],
   "source": [
    "# タプルの場合下記のようなテクニックも使える\n",
    "# x-y座標にある点a点b点cのx座標、y座標だけとり出す場合\n",
    "point_a = [10, 20]\n",
    "point_b = [100, 200]\n",
    "point_c = [1000, 2000]\n",
    "x, y = zip(point_a, point_b, point_c)\n",
    "print(x)\n",
    "print(y)"
   ]
  },
  {
   "cell_type": "code",
   "execution_count": null,
   "id": "5fe3ce96-fac3-44b7-87c1-c6760e1b84c5",
   "metadata": {},
   "outputs": [],
   "source": [
    "# タプルとリストが混在していてもOK\n",
    "point_a = (10, 20) # タプル\n",
    "point_b = [100, 200] # リスト\n",
    "point_c = (1000, 2000) # タプル\n",
    "x, y = zip(point_a, point_b, point_c)\n",
    "print(x)\n",
    "print(y)"
   ]
  }
 ],
 "metadata": {
  "kernelspec": {
   "display_name": "Python 3 (ipykernel)",
   "language": "python",
   "name": "python3"
  },
  "language_info": {
   "codemirror_mode": {
    "name": "ipython",
    "version": 3
   },
   "file_extension": ".py",
   "mimetype": "text/x-python",
   "name": "python",
   "nbconvert_exporter": "python",
   "pygments_lexer": "ipython3",
   "version": "3.9.6"
  }
 },
 "nbformat": 4,
 "nbformat_minor": 5
}
