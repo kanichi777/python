{
 "cells": [
  {
   "cell_type": "markdown",
   "id": "9281844d-86dd-4716-b3f8-19cf00f90004",
   "metadata": {},
   "source": [
    "# python入門 dict（辞書型）はこれだけ抑えればOK！！"
   ]
  },
  {
   "cell_type": "markdown",
   "id": "a23d0458-5843-4924-a388-8149acd8c2cc",
   "metadata": {},
   "source": [
    "## 1.辞書の作成方法"
   ]
  },
  {
   "cell_type": "code",
   "execution_count": null,
   "id": "0efaaf4f-8230-47cc-813f-4ecd2cb19078",
   "metadata": {},
   "outputs": [],
   "source": [
    "# {}による作成方法\n",
    "sample = {'apple': 2, 'banana': 5, 'orange': 1}\n",
    "print(sample)\n",
    "\n",
    "# 空の辞書を作る場合は\n",
    "sample = {}\n",
    "print(sample)\n",
    "\n",
    "# dict()による作成方法はタプルでキーと値をまとめたリストを引数にして作成する\n",
    "sample = dict([('apple', 2), ('banana', 5), ('orange', 1)])\n",
    "print(sample)\n",
    "\n",
    "# 空の辞書を作る場合は\n",
    "sample = dict()\n",
    "print(sample)\n",
    "\n",
    "# dict.fromkeys()では複数のキーをリストで用意し同じ初期値を入れる場合に便利\n",
    "sample = dict.fromkeys(['apple', 'banana', 'orange'], 0)\n",
    "print(sample)"
   ]
  },
  {
   "cell_type": "markdown",
   "id": "81dfd8cb-7be9-4b6f-b2c1-cada9ade8262",
   "metadata": {},
   "source": [
    "## 2.辞書を追加"
   ]
  },
  {
   "cell_type": "code",
   "execution_count": null,
   "id": "83cb94fd-01de-470f-a38c-1cd487b72f7e",
   "metadata": {},
   "outputs": [],
   "source": [
    "# 辞書['key'] = 入れたい値で辞書に要素を追加することができる\n",
    "sample = {'apple': 2, 'banana': 5, 'orange': 1}\n",
    "print(sample)\n",
    "\n",
    "sample['lemon'] = 9\n",
    "print(sample)"
   ]
  },
  {
   "cell_type": "markdown",
   "id": "21d31c6d-2590-4498-a059-1f692222c46b",
   "metadata": {},
   "source": [
    "## 3.辞書の要素を変更"
   ]
  },
  {
   "cell_type": "code",
   "execution_count": null,
   "id": "db46efd9-e1ac-4137-a7e8-92ffc911fe35",
   "metadata": {},
   "outputs": [],
   "source": [
    "# 辞書['既に存在しているキー'] =　入れたい値 \n",
    "sample = {'apple': 2, 'banana': 5, 'orange': 1}\n",
    "sample['banana'] = 99\n",
    "print(sample)\n",
    "\n",
    "# 既にキーが存在している場合に値を変更したく無い場合は、　辞書.setdefault()を使う。\n",
    "sample = {'apple': 2, 'banana': 5, 'orange': 1}\n",
    "ret_item = sample.setdefault('banana', 99)\n",
    "print(sample) # 'banana'の値は書き変わっていない\n",
    "print(ret_item) # 戻り値はsetdefaultを実行した後、指定したキーの値が返ってくる\n",
    "\n",
    "# 複数のitemを追加したり、複数の値を書き換えたい場合は別の辞書とupdate()を使う\n",
    "sample1 = {'apple': 2, 'banana': 5, 'orange': 1}\n",
    "sample2 = {'apple': 4, 'mango': 8} # appleは上書き、mangoは追加したい\n",
    "sample1.update(sample2)\n",
    "print(sample1)\n"
   ]
  },
  {
   "cell_type": "markdown",
   "id": "464fd9f8-c9ad-411a-a6d1-7041bcf8e930",
   "metadata": {},
   "source": [
    "## 4.辞書の参照"
   ]
  },
  {
   "cell_type": "code",
   "execution_count": null,
   "id": "207e18e0-09a5-4e35-a8b1-1d189f57331b",
   "metadata": {},
   "outputs": [],
   "source": [
    "# sample['key']でkeyに対応した値を参照できる\n",
    "sample = {'apple': 2, 'banana': 5, 'orange': 1}\n",
    "print(sample['banana'])\n",
    "\n",
    "# sample.get('key')でも同じようにkeyに対応した値を参照できる\n",
    "print(sample.get('banana'))\n",
    "\n",
    "# getメソッドの良いところは指定したkeyが存在しない場合にエラーを出さずに値を返してくれる\n",
    "print(sample.get('mango')) # エラーにならずにデフォルトでNoneが返ってくる\n",
    "print(sample.get('mango', 0)) # 第二引数に戻り値を指定することも可能"
   ]
  },
  {
   "cell_type": "markdown",
   "id": "b68dac50-b723-4e4f-b0ac-50ecf4049c0d",
   "metadata": {},
   "source": [
    "## 5.辞書の削除"
   ]
  },
  {
   "cell_type": "code",
   "execution_count": null,
   "id": "16120d17-0791-42b9-a53f-ddbc6613daab",
   "metadata": {},
   "outputs": [],
   "source": [
    "# del sample['key']での削除\n",
    "sample = {'apple': 2, 'banana': 5, 'orange': 1}\n",
    "del sample['apple']\n",
    "print(sample)\n",
    "\n",
    "# clearメソッドによる全要素を削除\n",
    "sample = {'apple': 2, 'banana': 5, 'orange': 1}\n",
    "sample.clear()\n",
    "print(sample)\n",
    "\n",
    "# pop()による要素の削除\n",
    "sample = {'apple': 2, 'banana': 5, 'orange': 1}\n",
    "sample.pop('apple')\n",
    "print(sample)\n",
    "# pop()で存在しないキーを削除しようとした場合エラーになる\n",
    "# sample.pop('apple') # エラー\n",
    "# なので第二引数に何らかの値を指定しておくとエラーにならずその値を返してくれる\n",
    "print(sample.pop('apple', 0))\n",
    "\n",
    "# popitem()ランダムにkeyとvalueの１対を削除する\n",
    "sample = {'apple': 2, 'banana': 5, 'orange': 1}\n",
    "sample.popitem()\n",
    "print(sample)\n",
    "sample.popitem()\n",
    "print(sample)\n",
    "sample.popitem()\n",
    "print(sample)\n"
   ]
  },
  {
   "cell_type": "markdown",
   "id": "8f8a1315-75c4-48a6-b773-b9da09a1ea82",
   "metadata": {},
   "source": [
    "## 6.辞書の情報を取得"
   ]
  },
  {
   "cell_type": "code",
   "execution_count": null,
   "id": "441ba917-5590-440d-b983-7735f0a340e7",
   "metadata": {},
   "outputs": [],
   "source": [
    "# len()で辞書の要素数を取得できる\n",
    "sample = {'apple': 2, 'banana': 5, 'orange': 1}\n",
    "print(len(sample))\n",
    "\n",
    "# inを使って指定したキーの存在確認できる　辞書も存在しないキーでアクセスするとエラーになってしまう。\n",
    "# そのため事前に確認する際にif文の条件式に用いる\n",
    "# key in dictの形で使用する\n",
    "print('orange' in sample)\n",
    "\n",
    "# keys()を用い辞書のkeyの一覧を取得する\n",
    "print(sample.keys())\n",
    "print(type(sample.keys())) # <class 'dict_keys'>\n",
    "print(list(sample.keys())) # listに変換してからが使いやすい\n",
    "\n",
    "# values()を用いた辞書の値の一覧を取得する\n",
    "print(sample.values())\n",
    "print(type(sample.values())) # <class 'dict_values'>\n",
    "print(list(sample.values())) # listに変換してからが使いやすい\n",
    "\n",
    "# items()キーと値のペアの一覧を取得する\n",
    "print(sample.items())\n",
    "print(type(sample.items())) # <class 'dict_items'>\n",
    "print(list(sample.items())) # listに変換してからが使いやすい。この時、key,itemのペアはタプルとなる\n"
   ]
  },
  {
   "cell_type": "markdown",
   "id": "6363396a-5698-4c2f-944d-4581e550ccf7",
   "metadata": {},
   "source": [
    "## 7.辞書をコピー"
   ]
  },
  {
   "cell_type": "code",
   "execution_count": null,
   "id": "5b89f5f8-e259-4867-b9b0-0099788243fc",
   "metadata": {},
   "outputs": [],
   "source": [
    "# =とcopy()を用いたコピーの違い\n",
    "# =の場合\n",
    "print('=の場合')\n",
    "sample1 = {'apple': 2, 'banana': 5, 'orange': 1}\n",
    "sample2 = {'Grape': 4, 'peach': 3, 'melon': 6}\n",
    "sample1 = sample2 # <-ここがポイント\n",
    "# sample1 = sample2.copy()\n",
    "print('sample1 = ', sample1)\n",
    "sample2['Grape'] = 99\n",
    "print('sample2 = ', sample2)\n",
    "print('sample1 = ', sample1)\n",
    "\n",
    "print('copy()の場合')\n",
    "# copy()の場合\n",
    "sample1 = {'apple': 2, 'banana': 5, 'orange': 1}\n",
    "sample2 = {'Grape': 4, 'peach': 3, 'melon': 6}\n",
    "# sample1 = sample2\n",
    "sample1 = sample2.copy() # <-ここがポイント\n",
    "print('sample1 = ', sample1)\n",
    "\n",
    "sample2['Grape'] = 99\n",
    "print('sample2 = ', sample2)\n",
    "print('sample1 = ', sample1)"
   ]
  }
 ],
 "metadata": {
  "kernelspec": {
   "display_name": "Python 3 (ipykernel)",
   "language": "python",
   "name": "python3"
  },
  "language_info": {
   "codemirror_mode": {
    "name": "ipython",
    "version": 3
   },
   "file_extension": ".py",
   "mimetype": "text/x-python",
   "name": "python",
   "nbconvert_exporter": "python",
   "pygments_lexer": "ipython3",
   "version": "3.9.6"
  }
 },
 "nbformat": 4,
 "nbformat_minor": 5
}
